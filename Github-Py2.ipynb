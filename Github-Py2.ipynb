{
 "cells": [
  {
   "cell_type": "markdown",
   "metadata": {},
   "source": [
    "# Pandas + Python + GitHub API\n",
    "## Index\n",
    "### 1: Logic One\n",
    "### 2: Logic Two\n",
    "### 3: Implementation with results\n",
    "### 4: Modular Approach for same\n",
    "\n"
   ]
  },
  {
   "cell_type": "markdown",
   "metadata": {},
   "source": [
    "## 1: Logic One:\n",
    "### This logic does not need any authentication for accessing data. Reading all github pages from google repositories. Combined the complete dataset from all pages and sort it according to the parameter fork_count. Then select top 5 repositories. \n",
    "\n",
    "#### Syntax:  json_response =pd.read_json(url)\n",
    "#### Drawback: GitHub API \"https://api.github.com/\" can allow to hit only 60 Request in one hour for particular IP Address"
   ]
  },
  {
   "cell_type": "markdown",
   "metadata": {},
   "source": [
    "## 2: Logic Two:\n",
    "### To solve the above problem we use \"Requests\" instead of \"read_json\" a Pandas inbuilt function, which needs authentication for accessing the GitHub API. Once we get the HTML data then convert it into Pandas Dataframe. \n",
    "\n",
    "#### Syntax: requests.get(url,auth=(USER_ID,PASS)).content"
   ]
  },
  {
   "cell_type": "markdown",
   "metadata": {},
   "source": [
    "## 3: Implementation\n",
    "### For second half of the problem, find the top 3 committe and their total commits for each selected Repo.\n",
    "\n",
    "#### Given that top committers are those you can commit to master Repo not the merge committer. So filtering out dataset based on top contributors and their total commits."
   ]
  },
  {
   "cell_type": "markdown",
   "metadata": {},
   "source": []
  },
  {
   "cell_type": "code",
   "execution_count": 1,
   "metadata": {
    "collapsed": true
   },
   "outputs": [],
   "source": [
    "#Importing Pandas \n",
    "import pandas as pd\n",
    "#Importing Requests\n",
    "import requests"
   ]
  },
  {
   "cell_type": "code",
   "execution_count": null,
   "metadata": {
    "collapsed": true
   },
   "outputs": [],
   "source": []
  },
  {
   "cell_type": "code",
   "execution_count": 35,
   "metadata": {
    "collapsed": false,
    "scrolled": true
   },
   "outputs": [
    {
     "name": "stdout",
     "output_type": "stream",
     "text": [
      "Accessing Page Number :  1\n",
      "Accessing Page Number :  2\n",
      "Accessing Page Number :  3\n",
      "Accessing Page Number :  4\n",
      "Accessing Page Number :  5\n",
      "Accessing Page Number :  6\n",
      "Accessing Page Number :  7\n",
      "Accessing Page Number :  8\n",
      "Accessing Page Number :  9\n",
      "Accessing Page Number :  10\n",
      "Accessing Page Number :  11\n",
      "Accessing Page Number :  12\n",
      "Accessing Page Number :  13\n",
      "Accessing Page Number :  14\n",
      "Accessing Page Number :  15\n",
      "Accessing Page Number :  16\n",
      "Accessing Page Number :  17\n",
      "Accessing Page Number :  18\n",
      "Accessing Page Number :  19\n",
      "Accessing Page Number :  20\n",
      "Accessing Page Number :  21\n",
      "Accessing Page Number :  22\n",
      "Accessing Page Number :  23\n",
      "Accessing Page Number :  24\n"
     ]
    },
    {
     "ename": "HTTPError",
     "evalue": "HTTP Error 403: Forbidden",
     "output_type": "error",
     "traceback": [
      "\u001b[0;31m---------------------------------------------------------------------------\u001b[0m",
      "\u001b[0;31mHTTPError\u001b[0m                                 Traceback (most recent call last)",
      "\u001b[0;32m<ipython-input-35-b1bb6011e62c>\u001b[0m in \u001b[0;36m<module>\u001b[0;34m()\u001b[0m\n\u001b[1;32m      9\u001b[0m \u001b[1;33m\u001b[0m\u001b[0m\n\u001b[1;32m     10\u001b[0m     \u001b[1;31m#Reading JSON response through Pandas function call\u001b[0m\u001b[1;33m\u001b[0m\u001b[1;33m\u001b[0m\u001b[0m\n\u001b[0;32m---> 11\u001b[0;31m     \u001b[0mjson_response\u001b[0m \u001b[1;33m=\u001b[0m\u001b[0mpd\u001b[0m\u001b[1;33m.\u001b[0m\u001b[0mread_json\u001b[0m\u001b[1;33m(\u001b[0m\u001b[0murl\u001b[0m\u001b[1;33m)\u001b[0m\u001b[1;33m\u001b[0m\u001b[0m\n\u001b[0m\u001b[1;32m     12\u001b[0m     \u001b[1;32mif\u001b[0m \u001b[1;32mnot\u001b[0m \u001b[1;33m(\u001b[0m\u001b[0mjson_response\u001b[0m\u001b[1;33m.\u001b[0m\u001b[0mempty\u001b[0m\u001b[1;33m)\u001b[0m\u001b[1;33m:\u001b[0m\u001b[1;33m\u001b[0m\u001b[0m\n\u001b[1;32m     13\u001b[0m         \u001b[1;31m#Combinig the data from all pages\u001b[0m\u001b[1;33m\u001b[0m\u001b[1;33m\u001b[0m\u001b[0m\n",
      "\u001b[0;32mC:\\Users\\sapan_jain\\AppData\\Local\\Continuum\\Anaconda2\\lib\\site-packages\\pandas\\io\\json.pyc\u001b[0m in \u001b[0;36mread_json\u001b[0;34m(path_or_buf, orient, typ, dtype, convert_axes, convert_dates, keep_default_dates, numpy, precise_float, date_unit)\u001b[0m\n\u001b[1;32m    185\u001b[0m     \"\"\"\n\u001b[1;32m    186\u001b[0m \u001b[1;33m\u001b[0m\u001b[0m\n\u001b[0;32m--> 187\u001b[0;31m     \u001b[0mfilepath_or_buffer\u001b[0m\u001b[1;33m,\u001b[0m \u001b[0m_\u001b[0m\u001b[1;33m,\u001b[0m \u001b[0m_\u001b[0m \u001b[1;33m=\u001b[0m \u001b[0mget_filepath_or_buffer\u001b[0m\u001b[1;33m(\u001b[0m\u001b[0mpath_or_buf\u001b[0m\u001b[1;33m)\u001b[0m\u001b[1;33m\u001b[0m\u001b[0m\n\u001b[0m\u001b[1;32m    188\u001b[0m     \u001b[1;32mif\u001b[0m \u001b[0misinstance\u001b[0m\u001b[1;33m(\u001b[0m\u001b[0mfilepath_or_buffer\u001b[0m\u001b[1;33m,\u001b[0m \u001b[0mcompat\u001b[0m\u001b[1;33m.\u001b[0m\u001b[0mstring_types\u001b[0m\u001b[1;33m)\u001b[0m\u001b[1;33m:\u001b[0m\u001b[1;33m\u001b[0m\u001b[0m\n\u001b[1;32m    189\u001b[0m         \u001b[1;32mtry\u001b[0m\u001b[1;33m:\u001b[0m\u001b[1;33m\u001b[0m\u001b[0m\n",
      "\u001b[0;32mC:\\Users\\sapan_jain\\AppData\\Local\\Continuum\\Anaconda2\\lib\\site-packages\\pandas\\io\\common.pyc\u001b[0m in \u001b[0;36mget_filepath_or_buffer\u001b[0;34m(filepath_or_buffer, encoding, compression)\u001b[0m\n\u001b[1;32m    306\u001b[0m \u001b[1;33m\u001b[0m\u001b[0m\n\u001b[1;32m    307\u001b[0m     \u001b[1;32mif\u001b[0m \u001b[0m_is_url\u001b[0m\u001b[1;33m(\u001b[0m\u001b[0mfilepath_or_buffer\u001b[0m\u001b[1;33m)\u001b[0m\u001b[1;33m:\u001b[0m\u001b[1;33m\u001b[0m\u001b[0m\n\u001b[0;32m--> 308\u001b[0;31m         \u001b[0mreq\u001b[0m \u001b[1;33m=\u001b[0m \u001b[0m_urlopen\u001b[0m\u001b[1;33m(\u001b[0m\u001b[0mstr\u001b[0m\u001b[1;33m(\u001b[0m\u001b[0mfilepath_or_buffer\u001b[0m\u001b[1;33m)\u001b[0m\u001b[1;33m)\u001b[0m\u001b[1;33m\u001b[0m\u001b[0m\n\u001b[0m\u001b[1;32m    309\u001b[0m         \u001b[1;32mif\u001b[0m \u001b[0mcompression\u001b[0m \u001b[1;33m==\u001b[0m \u001b[1;34m'infer'\u001b[0m\u001b[1;33m:\u001b[0m\u001b[1;33m\u001b[0m\u001b[0m\n\u001b[1;32m    310\u001b[0m             \u001b[0mcontent_encoding\u001b[0m \u001b[1;33m=\u001b[0m \u001b[0mreq\u001b[0m\u001b[1;33m.\u001b[0m\u001b[0mheaders\u001b[0m\u001b[1;33m.\u001b[0m\u001b[0mget\u001b[0m\u001b[1;33m(\u001b[0m\u001b[1;34m'Content-Encoding'\u001b[0m\u001b[1;33m,\u001b[0m \u001b[0mNone\u001b[0m\u001b[1;33m)\u001b[0m\u001b[1;33m\u001b[0m\u001b[0m\n",
      "\u001b[0;32mC:\\Users\\sapan_jain\\AppData\\Local\\Continuum\\Anaconda2\\lib\\urllib2.pyc\u001b[0m in \u001b[0;36murlopen\u001b[0;34m(url, data, timeout, cafile, capath, cadefault, context)\u001b[0m\n\u001b[1;32m    152\u001b[0m     \u001b[1;32melse\u001b[0m\u001b[1;33m:\u001b[0m\u001b[1;33m\u001b[0m\u001b[0m\n\u001b[1;32m    153\u001b[0m         \u001b[0mopener\u001b[0m \u001b[1;33m=\u001b[0m \u001b[0m_opener\u001b[0m\u001b[1;33m\u001b[0m\u001b[0m\n\u001b[0;32m--> 154\u001b[0;31m     \u001b[1;32mreturn\u001b[0m \u001b[0mopener\u001b[0m\u001b[1;33m.\u001b[0m\u001b[0mopen\u001b[0m\u001b[1;33m(\u001b[0m\u001b[0murl\u001b[0m\u001b[1;33m,\u001b[0m \u001b[0mdata\u001b[0m\u001b[1;33m,\u001b[0m \u001b[0mtimeout\u001b[0m\u001b[1;33m)\u001b[0m\u001b[1;33m\u001b[0m\u001b[0m\n\u001b[0m\u001b[1;32m    155\u001b[0m \u001b[1;33m\u001b[0m\u001b[0m\n\u001b[1;32m    156\u001b[0m \u001b[1;32mdef\u001b[0m \u001b[0minstall_opener\u001b[0m\u001b[1;33m(\u001b[0m\u001b[0mopener\u001b[0m\u001b[1;33m)\u001b[0m\u001b[1;33m:\u001b[0m\u001b[1;33m\u001b[0m\u001b[0m\n",
      "\u001b[0;32mC:\\Users\\sapan_jain\\AppData\\Local\\Continuum\\Anaconda2\\lib\\urllib2.pyc\u001b[0m in \u001b[0;36mopen\u001b[0;34m(self, fullurl, data, timeout)\u001b[0m\n\u001b[1;32m    433\u001b[0m         \u001b[1;32mfor\u001b[0m \u001b[0mprocessor\u001b[0m \u001b[1;32min\u001b[0m \u001b[0mself\u001b[0m\u001b[1;33m.\u001b[0m\u001b[0mprocess_response\u001b[0m\u001b[1;33m.\u001b[0m\u001b[0mget\u001b[0m\u001b[1;33m(\u001b[0m\u001b[0mprotocol\u001b[0m\u001b[1;33m,\u001b[0m \u001b[1;33m[\u001b[0m\u001b[1;33m]\u001b[0m\u001b[1;33m)\u001b[0m\u001b[1;33m:\u001b[0m\u001b[1;33m\u001b[0m\u001b[0m\n\u001b[1;32m    434\u001b[0m             \u001b[0mmeth\u001b[0m \u001b[1;33m=\u001b[0m \u001b[0mgetattr\u001b[0m\u001b[1;33m(\u001b[0m\u001b[0mprocessor\u001b[0m\u001b[1;33m,\u001b[0m \u001b[0mmeth_name\u001b[0m\u001b[1;33m)\u001b[0m\u001b[1;33m\u001b[0m\u001b[0m\n\u001b[0;32m--> 435\u001b[0;31m             \u001b[0mresponse\u001b[0m \u001b[1;33m=\u001b[0m \u001b[0mmeth\u001b[0m\u001b[1;33m(\u001b[0m\u001b[0mreq\u001b[0m\u001b[1;33m,\u001b[0m \u001b[0mresponse\u001b[0m\u001b[1;33m)\u001b[0m\u001b[1;33m\u001b[0m\u001b[0m\n\u001b[0m\u001b[1;32m    436\u001b[0m \u001b[1;33m\u001b[0m\u001b[0m\n\u001b[1;32m    437\u001b[0m         \u001b[1;32mreturn\u001b[0m \u001b[0mresponse\u001b[0m\u001b[1;33m\u001b[0m\u001b[0m\n",
      "\u001b[0;32mC:\\Users\\sapan_jain\\AppData\\Local\\Continuum\\Anaconda2\\lib\\urllib2.pyc\u001b[0m in \u001b[0;36mhttp_response\u001b[0;34m(self, request, response)\u001b[0m\n\u001b[1;32m    546\u001b[0m         \u001b[1;32mif\u001b[0m \u001b[1;32mnot\u001b[0m \u001b[1;33m(\u001b[0m\u001b[1;36m200\u001b[0m \u001b[1;33m<=\u001b[0m \u001b[0mcode\u001b[0m \u001b[1;33m<\u001b[0m \u001b[1;36m300\u001b[0m\u001b[1;33m)\u001b[0m\u001b[1;33m:\u001b[0m\u001b[1;33m\u001b[0m\u001b[0m\n\u001b[1;32m    547\u001b[0m             response = self.parent.error(\n\u001b[0;32m--> 548\u001b[0;31m                 'http', request, response, code, msg, hdrs)\n\u001b[0m\u001b[1;32m    549\u001b[0m \u001b[1;33m\u001b[0m\u001b[0m\n\u001b[1;32m    550\u001b[0m         \u001b[1;32mreturn\u001b[0m \u001b[0mresponse\u001b[0m\u001b[1;33m\u001b[0m\u001b[0m\n",
      "\u001b[0;32mC:\\Users\\sapan_jain\\AppData\\Local\\Continuum\\Anaconda2\\lib\\urllib2.pyc\u001b[0m in \u001b[0;36merror\u001b[0;34m(self, proto, *args)\u001b[0m\n\u001b[1;32m    471\u001b[0m         \u001b[1;32mif\u001b[0m \u001b[0mhttp_err\u001b[0m\u001b[1;33m:\u001b[0m\u001b[1;33m\u001b[0m\u001b[0m\n\u001b[1;32m    472\u001b[0m             \u001b[0margs\u001b[0m \u001b[1;33m=\u001b[0m \u001b[1;33m(\u001b[0m\u001b[0mdict\u001b[0m\u001b[1;33m,\u001b[0m \u001b[1;34m'default'\u001b[0m\u001b[1;33m,\u001b[0m \u001b[1;34m'http_error_default'\u001b[0m\u001b[1;33m)\u001b[0m \u001b[1;33m+\u001b[0m \u001b[0morig_args\u001b[0m\u001b[1;33m\u001b[0m\u001b[0m\n\u001b[0;32m--> 473\u001b[0;31m             \u001b[1;32mreturn\u001b[0m \u001b[0mself\u001b[0m\u001b[1;33m.\u001b[0m\u001b[0m_call_chain\u001b[0m\u001b[1;33m(\u001b[0m\u001b[1;33m*\u001b[0m\u001b[0margs\u001b[0m\u001b[1;33m)\u001b[0m\u001b[1;33m\u001b[0m\u001b[0m\n\u001b[0m\u001b[1;32m    474\u001b[0m \u001b[1;33m\u001b[0m\u001b[0m\n\u001b[1;32m    475\u001b[0m \u001b[1;31m# XXX probably also want an abstract factory that knows when it makes\u001b[0m\u001b[1;33m\u001b[0m\u001b[1;33m\u001b[0m\u001b[0m\n",
      "\u001b[0;32mC:\\Users\\sapan_jain\\AppData\\Local\\Continuum\\Anaconda2\\lib\\urllib2.pyc\u001b[0m in \u001b[0;36m_call_chain\u001b[0;34m(self, chain, kind, meth_name, *args)\u001b[0m\n\u001b[1;32m    405\u001b[0m             \u001b[0mfunc\u001b[0m \u001b[1;33m=\u001b[0m \u001b[0mgetattr\u001b[0m\u001b[1;33m(\u001b[0m\u001b[0mhandler\u001b[0m\u001b[1;33m,\u001b[0m \u001b[0mmeth_name\u001b[0m\u001b[1;33m)\u001b[0m\u001b[1;33m\u001b[0m\u001b[0m\n\u001b[1;32m    406\u001b[0m \u001b[1;33m\u001b[0m\u001b[0m\n\u001b[0;32m--> 407\u001b[0;31m             \u001b[0mresult\u001b[0m \u001b[1;33m=\u001b[0m \u001b[0mfunc\u001b[0m\u001b[1;33m(\u001b[0m\u001b[1;33m*\u001b[0m\u001b[0margs\u001b[0m\u001b[1;33m)\u001b[0m\u001b[1;33m\u001b[0m\u001b[0m\n\u001b[0m\u001b[1;32m    408\u001b[0m             \u001b[1;32mif\u001b[0m \u001b[0mresult\u001b[0m \u001b[1;32mis\u001b[0m \u001b[1;32mnot\u001b[0m \u001b[0mNone\u001b[0m\u001b[1;33m:\u001b[0m\u001b[1;33m\u001b[0m\u001b[0m\n\u001b[1;32m    409\u001b[0m                 \u001b[1;32mreturn\u001b[0m \u001b[0mresult\u001b[0m\u001b[1;33m\u001b[0m\u001b[0m\n",
      "\u001b[0;32mC:\\Users\\sapan_jain\\AppData\\Local\\Continuum\\Anaconda2\\lib\\urllib2.pyc\u001b[0m in \u001b[0;36mhttp_error_default\u001b[0;34m(self, req, fp, code, msg, hdrs)\u001b[0m\n\u001b[1;32m    554\u001b[0m \u001b[1;32mclass\u001b[0m \u001b[0mHTTPDefaultErrorHandler\u001b[0m\u001b[1;33m(\u001b[0m\u001b[0mBaseHandler\u001b[0m\u001b[1;33m)\u001b[0m\u001b[1;33m:\u001b[0m\u001b[1;33m\u001b[0m\u001b[0m\n\u001b[1;32m    555\u001b[0m     \u001b[1;32mdef\u001b[0m \u001b[0mhttp_error_default\u001b[0m\u001b[1;33m(\u001b[0m\u001b[0mself\u001b[0m\u001b[1;33m,\u001b[0m \u001b[0mreq\u001b[0m\u001b[1;33m,\u001b[0m \u001b[0mfp\u001b[0m\u001b[1;33m,\u001b[0m \u001b[0mcode\u001b[0m\u001b[1;33m,\u001b[0m \u001b[0mmsg\u001b[0m\u001b[1;33m,\u001b[0m \u001b[0mhdrs\u001b[0m\u001b[1;33m)\u001b[0m\u001b[1;33m:\u001b[0m\u001b[1;33m\u001b[0m\u001b[0m\n\u001b[0;32m--> 556\u001b[0;31m         \u001b[1;32mraise\u001b[0m \u001b[0mHTTPError\u001b[0m\u001b[1;33m(\u001b[0m\u001b[0mreq\u001b[0m\u001b[1;33m.\u001b[0m\u001b[0mget_full_url\u001b[0m\u001b[1;33m(\u001b[0m\u001b[1;33m)\u001b[0m\u001b[1;33m,\u001b[0m \u001b[0mcode\u001b[0m\u001b[1;33m,\u001b[0m \u001b[0mmsg\u001b[0m\u001b[1;33m,\u001b[0m \u001b[0mhdrs\u001b[0m\u001b[1;33m,\u001b[0m \u001b[0mfp\u001b[0m\u001b[1;33m)\u001b[0m\u001b[1;33m\u001b[0m\u001b[0m\n\u001b[0m\u001b[1;32m    557\u001b[0m \u001b[1;33m\u001b[0m\u001b[0m\n\u001b[1;32m    558\u001b[0m \u001b[1;32mclass\u001b[0m \u001b[0mHTTPRedirectHandler\u001b[0m\u001b[1;33m(\u001b[0m\u001b[0mBaseHandler\u001b[0m\u001b[1;33m)\u001b[0m\u001b[1;33m:\u001b[0m\u001b[1;33m\u001b[0m\u001b[0m\n",
      "\u001b[0;31mHTTPError\u001b[0m: HTTP Error 403: Forbidden"
     ]
    }
   ],
   "source": [
    "PAGE=50 # Assuming total pages for any repo is not more than 50\n",
    "TOPREPO=5 # selecting top 5 repositories \n",
    "\n",
    "api = 'https://api.github.com/users/google/repos?page={}'\n",
    "combined_json=pd.DataFrame()\n",
    "for page_number in range(1,PAGE):\n",
    "    url = api.format(page_number)\n",
    "    print \"Accessing Page Number : \", page_number\n",
    "    \n",
    "    #Reading JSON response through Pandas function call\n",
    "    json_response =pd.read_json(url)\n",
    "    if not (json_response.empty):\n",
    "        #Combinig the data from all pages\n",
    "        combined_json=pd.concat([combined_json, json_response], axis=0,ignore_index=True)\n",
    "        #print len(combined_json['forks_count'])\n",
    "    else:\n",
    "        break\n",
    "    \n",
    "#Sorting the Dataset\n",
    "sorted_forks=combined_json.sort_values(by='forks_count',ascending=False)\n",
    "\n",
    "#Selecting TOP 5 Repositories \n",
    "selected_repo=sorted_forks[:TOPREPO]\n",
    "selected_repo=selected_repo.reset_index(drop=True)\n",
    "#print selected_repo['forks_count']\n",
    "print selected_repo.describe\n",
    "print selected_repo.shape\n",
    "#print \"Repo Name : \", selected_repo['name'], \"\\t Fork Count : \", selected_repo['forks_count']\n"
   ]
  },
  {
   "cell_type": "code",
   "execution_count": 14,
   "metadata": {
    "collapsed": false
   },
   "outputs": [
    {
     "name": "stdout",
     "output_type": "stream",
     "text": [
      "Total number of Forks for the selected Repositories\n",
      "0    5298\n",
      "1    4823\n",
      "2    4441\n",
      "3    4355\n",
      "4    3388\n",
      "Name: forks_count, dtype: int64\n",
      "0    material-design-icons\n",
      "1                  iosched\n",
      "2                 protobuf\n",
      "3     material-design-lite\n",
      "4                    guava\n",
      "Name: name, dtype: object\n",
      "(5, 69)\n"
     ]
    }
   ],
   "source": [
    "print \"Total number of Forks for the selected Repositories\"\n",
    "print selected_repo['forks_count']\n",
    "print selected_repo['name']\n",
    "print selected_repo.shape\n",
    "selected_repo=selected_repo.reset_index(drop=True)"
   ]
  },
  {
   "cell_type": "code",
   "execution_count": 15,
   "metadata": {
    "collapsed": false
   },
   "outputs": [
    {
     "data": {
      "text/html": [
       "<div>\n",
       "<table border=\"1\" class=\"dataframe\">\n",
       "  <thead>\n",
       "    <tr style=\"text-align: right;\">\n",
       "      <th></th>\n",
       "      <th>repo_name</th>\n",
       "      <th>forks_count</th>\n",
       "      <th>contributer_url</th>\n",
       "    </tr>\n",
       "  </thead>\n",
       "  <tbody>\n",
       "    <tr>\n",
       "      <th>0</th>\n",
       "      <td>material-design-icons</td>\n",
       "      <td>5298</td>\n",
       "      <td>https://api.github.com/repos/google/material-d...</td>\n",
       "    </tr>\n",
       "    <tr>\n",
       "      <th>1</th>\n",
       "      <td>iosched</td>\n",
       "      <td>4823</td>\n",
       "      <td>https://api.github.com/repos/google/iosched/co...</td>\n",
       "    </tr>\n",
       "    <tr>\n",
       "      <th>2</th>\n",
       "      <td>protobuf</td>\n",
       "      <td>4441</td>\n",
       "      <td>https://api.github.com/repos/google/protobuf/c...</td>\n",
       "    </tr>\n",
       "    <tr>\n",
       "      <th>3</th>\n",
       "      <td>material-design-lite</td>\n",
       "      <td>4355</td>\n",
       "      <td>https://api.github.com/repos/google/material-d...</td>\n",
       "    </tr>\n",
       "    <tr>\n",
       "      <th>4</th>\n",
       "      <td>guava</td>\n",
       "      <td>3388</td>\n",
       "      <td>https://api.github.com/repos/google/guava/cont...</td>\n",
       "    </tr>\n",
       "  </tbody>\n",
       "</table>\n",
       "</div>"
      ],
      "text/plain": [
       "               repo_name  forks_count  \\\n",
       "0  material-design-icons         5298   \n",
       "1                iosched         4823   \n",
       "2               protobuf         4441   \n",
       "3   material-design-lite         4355   \n",
       "4                  guava         3388   \n",
       "\n",
       "                                     contributer_url  \n",
       "0  https://api.github.com/repos/google/material-d...  \n",
       "1  https://api.github.com/repos/google/iosched/co...  \n",
       "2  https://api.github.com/repos/google/protobuf/c...  \n",
       "3  https://api.github.com/repos/google/material-d...  \n",
       "4  https://api.github.com/repos/google/guava/cont...  "
      ]
     },
     "execution_count": 15,
     "metadata": {},
     "output_type": "execute_result"
    }
   ],
   "source": [
    "data=pd.DataFrame(index=None)\n",
    "data['repo_name']=selected_repo['name']\n",
    "data['forks_count']=selected_repo['forks_count']\n",
    "data['contributer_url']=selected_repo['contributors_url']\n",
    "data.reset_index(drop=True)\n"
   ]
  },
  {
   "cell_type": "code",
   "execution_count": 17,
   "metadata": {
    "collapsed": false
   },
   "outputs": [],
   "source": [
    "contri_url=data['contributer_url']\n",
    "repo_name=data['repo_name']\n",
    "key=['Repo_Name','Committer_Name','Commit_Count']\n",
    "commit_data=pd.DataFrame(columns=key,index=None)\n",
    "#commit_data=pd.DataFrame()\n",
    "temp_data=pd.DataFrame(columns=key,index=None)\n",
    "\n",
    "for url,repo in zip(contri_url,repo_name): \n",
    "    contri_json =pd.read_json(url)\n",
    "    #contri_json.apply(func(repo_name)) \n",
    "    temp_data['Committer_Name']=contri_json['login']\n",
    "    temp_data['Repo_Name']= repo\n",
    "    temp_data['Commit_Count']=contri_json['contributions']\n",
    "    commit_data=pd.concat([commit_data,temp_data],ignore_index=True)\n"
   ]
  },
  {
   "cell_type": "markdown",
   "metadata": {},
   "source": [
    "### Top 3 commits with committer name and respective Repositories\n"
   ]
  },
  {
   "cell_type": "code",
   "execution_count": 18,
   "metadata": {
    "collapsed": false
   },
   "outputs": [
    {
     "data": {
      "text/html": [
       "<div>\n",
       "<table border=\"1\" class=\"dataframe\">\n",
       "  <thead>\n",
       "    <tr style=\"text-align: right;\">\n",
       "      <th></th>\n",
       "      <th>Repo_Name</th>\n",
       "      <th>Committer_Name</th>\n",
       "      <th>Commit_Count</th>\n",
       "    </tr>\n",
       "  </thead>\n",
       "  <tbody>\n",
       "    <tr>\n",
       "      <th>60</th>\n",
       "      <td>guava</td>\n",
       "      <td>cpovirk</td>\n",
       "      <td>1138.0</td>\n",
       "    </tr>\n",
       "    <tr>\n",
       "      <th>45</th>\n",
       "      <td>material-design-lite</td>\n",
       "      <td>addyosmani</td>\n",
       "      <td>697.0</td>\n",
       "    </tr>\n",
       "    <tr>\n",
       "      <th>30</th>\n",
       "      <td>protobuf</td>\n",
       "      <td>jskeet</td>\n",
       "      <td>567.0</td>\n",
       "    </tr>\n",
       "    <tr>\n",
       "      <th>46</th>\n",
       "      <td>material-design-lite</td>\n",
       "      <td>surma</td>\n",
       "      <td>555.0</td>\n",
       "    </tr>\n",
       "    <tr>\n",
       "      <th>31</th>\n",
       "      <td>protobuf</td>\n",
       "      <td>xfxyjwf</td>\n",
       "      <td>500.0</td>\n",
       "    </tr>\n",
       "    <tr>\n",
       "      <th>61</th>\n",
       "      <td>guava</td>\n",
       "      <td>kluever</td>\n",
       "      <td>493.0</td>\n",
       "    </tr>\n",
       "    <tr>\n",
       "      <th>47</th>\n",
       "      <td>material-design-lite</td>\n",
       "      <td>sgomes</td>\n",
       "      <td>473.0</td>\n",
       "    </tr>\n",
       "    <tr>\n",
       "      <th>62</th>\n",
       "      <td>guava</td>\n",
       "      <td>cgdecker</td>\n",
       "      <td>418.0</td>\n",
       "    </tr>\n",
       "    <tr>\n",
       "      <th>32</th>\n",
       "      <td>protobuf</td>\n",
       "      <td>pherl</td>\n",
       "      <td>358.0</td>\n",
       "    </tr>\n",
       "    <tr>\n",
       "      <th>15</th>\n",
       "      <td>iosched</td>\n",
       "      <td>PaulRashidi</td>\n",
       "      <td>145.0</td>\n",
       "    </tr>\n",
       "    <tr>\n",
       "      <th>16</th>\n",
       "      <td>iosched</td>\n",
       "      <td>freewheelnat</td>\n",
       "      <td>129.0</td>\n",
       "    </tr>\n",
       "    <tr>\n",
       "      <th>17</th>\n",
       "      <td>iosched</td>\n",
       "      <td>tjohns</td>\n",
       "      <td>50.0</td>\n",
       "    </tr>\n",
       "    <tr>\n",
       "      <th>0</th>\n",
       "      <td>material-design-icons</td>\n",
       "      <td>jestelle</td>\n",
       "      <td>37.0</td>\n",
       "    </tr>\n",
       "    <tr>\n",
       "      <th>1</th>\n",
       "      <td>material-design-icons</td>\n",
       "      <td>shyndman</td>\n",
       "      <td>36.0</td>\n",
       "    </tr>\n",
       "    <tr>\n",
       "      <th>2</th>\n",
       "      <td>material-design-icons</td>\n",
       "      <td>addyosmani</td>\n",
       "      <td>12.0</td>\n",
       "    </tr>\n",
       "  </tbody>\n",
       "</table>\n",
       "</div>"
      ],
      "text/plain": [
       "                Repo_Name Committer_Name  Commit_Count\n",
       "60                  guava        cpovirk        1138.0\n",
       "45   material-design-lite     addyosmani         697.0\n",
       "30               protobuf         jskeet         567.0\n",
       "46   material-design-lite          surma         555.0\n",
       "31               protobuf        xfxyjwf         500.0\n",
       "61                  guava        kluever         493.0\n",
       "47   material-design-lite         sgomes         473.0\n",
       "62                  guava       cgdecker         418.0\n",
       "32               protobuf          pherl         358.0\n",
       "15                iosched    PaulRashidi         145.0\n",
       "16                iosched   freewheelnat         129.0\n",
       "17                iosched         tjohns          50.0\n",
       "0   material-design-icons       jestelle          37.0\n",
       "1   material-design-icons       shyndman          36.0\n",
       "2   material-design-icons     addyosmani          12.0"
      ]
     },
     "execution_count": 18,
     "metadata": {},
     "output_type": "execute_result"
    }
   ],
   "source": [
    "#### Used Groupby and sort on selected data\n",
    "commit_data.sort_values(by=['Commit_Count'],ascending=False).groupby('Repo_Name').head(3)"
   ]
  },
  {
   "cell_type": "code",
   "execution_count": null,
   "metadata": {
    "collapsed": true
   },
   "outputs": [],
   "source": []
  },
  {
   "cell_type": "markdown",
   "metadata": {
    "collapsed": true
   },
   "source": [
    "## 4: Modular Approach"
   ]
  },
  {
   "cell_type": "code",
   "execution_count": 26,
   "metadata": {
    "collapsed": false
   },
   "outputs": [],
   "source": [
    "class GitHubRepo:\n",
    "    PAGE=50 # Assuming total pages for any repo is not more than 50\n",
    "    TOP_REPO=5 # selecting top 5 repositories \n",
    "    USER_ID='' #Github Username/email_id\n",
    "    PASS=''  #Github Password\n",
    "    API='https://api.github.com/users/google/repos?page={}' #Google Github API url; page-wise\n",
    "    URL='https://api.github.com/users/google/repos'\n",
    "    \n",
    "    def __init__(self,username,password):\n",
    "        self.USER_ID=username\n",
    "        self.PASS=password\n",
    "        #self.sort_by_param=sort_by_param\n",
    "    \n",
    "    def check_valid_input(self):\n",
    "        r=requests.get(self.URL,auth=(self.USER_ID,self.PASS))\n",
    "        code=r.status_code\n",
    "        if code == 200:\n",
    "            return True \n",
    "        elif code == 404:\n",
    "            return  \"API URL is incorrect!\"\n",
    "        else:\n",
    "            return \"Please provide valid GitHub Credentials\"\n",
    "                \n",
    "            \n",
    "    def print_data(self):\n",
    "        print self.USER_ID, self.PASS\n",
    "    \n",
    "    def get_url_response(self):\n",
    "        combined_json=pd.DataFrame()\n",
    "        for page_number in range(1,self.PAGE):\n",
    "            url = self.API.format(page_number)\n",
    "            print \"Accessing Page Number : \", page_number\n",
    "\n",
    "            #Getting response through request function call\n",
    "            urlData = requests.get(url,auth=(self.USER_ID,self.PASS)).content\n",
    "            #Converting response into Pandas DataFrame format\n",
    "            json_response =pd.read_json(urlData)\n",
    "            if not (json_response.empty):\n",
    "                #Combinig the data from all pages\n",
    "                combined_json=pd.concat([combined_json, json_response], axis=0,ignore_index=True)\n",
    "                #print len(combined_json['forks_count'])\n",
    "            else:\n",
    "                break\n",
    "    \n",
    "        return combined_json\n",
    "    \n",
    "    def get_sorted(self,combined_json,sort_by_param):\n",
    "        sorted_repos=combined_json.sort_values(by=sort_by_param,ascending=False)\n",
    "        return sorted_repos\n",
    "    \n",
    "    def get_top_records(self,sorted_repos):\n",
    "        #Selecting TOP 5 Repositories \n",
    "        selected_repo=sorted_repos[:self.TOP_REPO]\n",
    "        selected_repo=selected_repo.reset_index(drop=True)\n",
    "        print selected_repo.shape\n",
    "        #print type(selected_repo), selected_repo\n",
    "        return selected_repo\n",
    "        \n",
    "    def prepare_table(self,selected_repo):\n",
    "        data=pd.DataFrame(index=None)\n",
    "        data['repo_name']=selected_repo['name']\n",
    "        data['forks_count']=selected_repo['forks_count']\n",
    "        data['contributer_url']=selected_repo['contributors_url']\n",
    "        data.reset_index(drop=True)\n",
    "        return data\n",
    "    \n",
    "    def get_contributor_url(self,data):\n",
    "        contri_url=data['contributer_url']\n",
    "        repo_name=data['repo_name']\n",
    "        key=['Repo_Name','Committer_Name','Commit_Count']\n",
    "        commit_data=pd.DataFrame(columns=key,index=None)\n",
    "        #commit_data=pd.DataFrame()\n",
    "        temp_data=pd.DataFrame(columns=key,index=None)\n",
    "\n",
    "        for url,repo in zip(contri_url,repo_name): \n",
    "            contri_json =pd.read_json(url)\n",
    "            #contri_json.apply(func(repo_name)) \n",
    "            temp_data['Committer_Name']=contri_json['login']\n",
    "            temp_data['Repo_Name']= repo\n",
    "            temp_data['Commit_Count']=contri_json['contributions']\n",
    "            commit_data=pd.concat([commit_data,temp_data],ignore_index=True)\n",
    "        return commit_data\n",
    "    \n",
    "    def get_commit_chart(self,commit_data):\n",
    "        #### Used Groupby and sort on selected data\n",
    "        result=commit_data.sort_values(by=['Commit_Count'],ascending=False).groupby('Repo_Name')\n",
    "        return result"
   ]
  },
  {
   "cell_type": "markdown",
   "metadata": {},
   "source": [
    "### Execution"
   ]
  },
  {
   "cell_type": "code",
   "execution_count": 27,
   "metadata": {
    "collapsed": false
   },
   "outputs": [
    {
     "name": "stdout",
     "output_type": "stream",
     "text": [
      "Enter GitHub UserName/EmailID \tgit_username\n",
      "Enter GitHub Password  \tgit_password\n",
      "Please provide valid GitHub Credentials \n",
      "Please try again...\n"
     ]
    }
   ],
   "source": [
    "import sys\n",
    "if __name__==\"__main__\":\n",
    "    username=raw_input(\"Enter GitHub UserName/EmailID \\t\")\n",
    "    password=raw_input(\"Enter GitHub Password  \\t\")\n",
    "    #print user_name,password\n",
    "    obj=GitHubRepo(username,password)\n",
    "    status=obj.check_valid_input()\n",
    "    #print status\n",
    "    if status != True:\n",
    "        print status, \"\\nPlease try again...\"\n",
    "        sys.exit\n",
    "    else:\n",
    "        data=obj.get_url_response()\n",
    "        sortdata=obj.get_sorted(data,'forks_count')\n",
    "        selected_repo=obj.get_top_records(sortdata)\n",
    "        #print type(selected_repo), selected_repo.shape\n",
    "        data_table=obj.prepare_table(selected_repo)\n",
    "        #print type(data_table),data_table\n",
    "        commit_data=obj.get_contributor_url(data_table)\n",
    "        final_result=obj.get_commit_chart(commit_data)\n",
    "        #printing TOP 3 commitee and their commit counts\n",
    "        print final_result.head(3)"
   ]
  },
  {
   "cell_type": "code",
   "execution_count": null,
   "metadata": {
    "collapsed": true
   },
   "outputs": [],
   "source": []
  },
  {
   "cell_type": "code",
   "execution_count": null,
   "metadata": {
    "collapsed": true
   },
   "outputs": [],
   "source": []
  },
  {
   "cell_type": "code",
   "execution_count": null,
   "metadata": {
    "collapsed": true
   },
   "outputs": [],
   "source": []
  },
  {
   "cell_type": "code",
   "execution_count": null,
   "metadata": {
    "collapsed": true
   },
   "outputs": [],
   "source": []
  }
 ],
 "metadata": {
  "anaconda-cloud": {},
  "kernelspec": {
   "display_name": "Python [conda root]",
   "language": "python",
   "name": "conda-root-py"
  },
  "language_info": {
   "codemirror_mode": {
    "name": "ipython",
    "version": 2
   },
   "file_extension": ".py",
   "mimetype": "text/x-python",
   "name": "python",
   "nbconvert_exporter": "python",
   "pygments_lexer": "ipython2",
   "version": "2.7.12"
  }
 },
 "nbformat": 4,
 "nbformat_minor": 1
}
